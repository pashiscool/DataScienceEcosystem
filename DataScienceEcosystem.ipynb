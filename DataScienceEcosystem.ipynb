{
 "cells": [
  {
   "cell_type": "markdown",
   "id": "fcd7b349-28f4-418b-adfd-704d8b2959a8",
   "metadata": {},
   "source": [
    "# Data Science Tools and Ecosystem"
   ]
  },
  {
   "cell_type": "markdown",
   "id": "59d3d8d2-79d1-49d5-a230-6c46c23fef29",
   "metadata": {},
   "source": [
    "In this notebook, Data Science Tools and Ecosystem are summarised.\n"
   ]
  },
  {
   "cell_type": "markdown",
   "id": "38b026ad-5607-467c-8315-e32af6487574",
   "metadata": {},
   "source": [
    "**Objectives:**\n",
    "- List popular languages for data science\n",
    "- Introduce arithmetic examples\n",
    "- List popular libraries for data science"
   ]
  },
  {
   "cell_type": "markdown",
   "id": "45daed5d-ce2f-4026-9d4a-21debd6e3753",
   "metadata": {},
   "source": [
    "Some of the popular languages that data scientists use are:\n",
    "1. Python\n",
    "2. R\n",
    "3. SQL"
   ]
  },
  {
   "cell_type": "markdown",
   "id": "fb0b199b-c02a-4782-9cb9-bc4a9ae14821",
   "metadata": {},
   "source": [
    "Some of the commonly used libraries used by Data Scientists include:\n",
    "1. Pandas\n",
    "2. Scikit-Learn\n",
    "3. ggplot2"
   ]
  },
  {
   "cell_type": "markdown",
   "id": "08613e10-426b-492c-831d-f711db599843",
   "metadata": {},
   "source": [
    "|Data Science Tools|\n",
    "|------------------|\n",
    "|JupyterLab|\n",
    "|RStudio|\n",
    "|Visual Studio|\n"
   ]
  },
  {
   "cell_type": "markdown",
   "id": "5d6a74e2-7b0b-4166-9bff-5aca8a396289",
   "metadata": {},
   "source": [
    "### Below are a few examples of evaluating arithmetic expressions in Python.\n",
    "\n"
   ]
  },
  {
   "cell_type": "code",
   "execution_count": 1,
   "id": "49faf732-c4b4-4a25-8fda-69bc0a16f0b6",
   "metadata": {},
   "outputs": [
    {
     "data": {
      "text/plain": [
       "17"
      ]
     },
     "execution_count": 1,
     "metadata": {},
     "output_type": "execute_result"
    }
   ],
   "source": [
    "# This a simple arithmetic expression to mutiply then add integers\n",
    "\n",
    "(3*4)+5"
   ]
  },
  {
   "cell_type": "code",
   "execution_count": 2,
   "id": "db59dcd9-56fe-4791-8227-3c058034ad69",
   "metadata": {},
   "outputs": [
    {
     "data": {
      "text/plain": [
       "3.3333333333333335"
      ]
     },
     "execution_count": 2,
     "metadata": {},
     "output_type": "execute_result"
    }
   ],
   "source": [
    "# This will convert 200 minutes to hours by diving by 60\n",
    "\n",
    "200/60"
   ]
  },
  {
   "cell_type": "markdown",
   "id": "9e9f82c7-667b-4960-b712-914f0a228528",
   "metadata": {},
   "source": [
    "## Author\n",
    "Peter Ashby"
   ]
  }
 ],
 "metadata": {
  "kernelspec": {
   "display_name": "Python 3 (ipykernel)",
   "language": "python",
   "name": "python3"
  },
  "language_info": {
   "codemirror_mode": {
    "name": "ipython",
    "version": 3
   },
   "file_extension": ".py",
   "mimetype": "text/x-python",
   "name": "python",
   "nbconvert_exporter": "python",
   "pygments_lexer": "ipython3",
   "version": "3.12.9"
  }
 },
 "nbformat": 4,
 "nbformat_minor": 5
}
